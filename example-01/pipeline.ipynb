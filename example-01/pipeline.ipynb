{
 "cells": [
  {
   "cell_type": "markdown",
   "metadata": {},
   "source": [
    "# Parallel Batch Scoring pipeline example\n",
    "\n",
    "In this example, we'll build a `ParallelRunStep` pipeline that can train many small models for time series. The potentials product IDs, SKUs, etc. for which a model should be trained is configured via a configration dataset. This dataset needs to container all the permutations for which a model should be trained. See [`../sample-data/config.csv`](../sample-data/config.csv) for an example, where in total a 1000 models would be trained, one for each code and company permution."
   ]
  },
  {
   "cell_type": "code",
   "execution_count": null,
   "metadata": {
    "tags": []
   },
   "outputs": [],
   "source": [
    "import os\n",
    "import azureml.core\n",
    "from azureml.core import Workspace, Experiment, Dataset, RunConfiguration\n",
    "from azureml.pipeline.core import Pipeline\n",
    "from azureml.pipeline.steps import ParallelRunStep, ParallelRunConfig\n",
    "from azureml.data import OutputFileDatasetConfig\n",
    "from azureml.data.dataset_consumption_config import DatasetConsumptionConfig\n",
    "\n",
    "print(\"Azure ML SDK version:\", azureml.core.VERSION)\n"
   ]
  },
  {
   "cell_type": "markdown",
   "metadata": {},
   "source": [
    "First, we will connect to the workspace. The command `Workspace.from_config()` will either:\n",
    "* Read the local `config.json` with the workspace reference (given it is there) or\n",
    "* Use the `az` CLI to connect to the workspace and use the workspace attached to via `az ml folder attach -g <resource group> -w <workspace name>`"
   ]
  },
  {
   "cell_type": "code",
   "execution_count": null,
   "metadata": {
    "tags": []
   },
   "outputs": [],
   "source": [
    "ws = Workspace.from_config()\n",
    "print(f'WS name: {ws.name}\\nRegion: {ws.location}\\nSubscription id: {ws.subscription_id}\\nResource group: {ws.resource_group}')"
   ]
  },
  {
   "cell_type": "markdown",
   "metadata": {},
   "source": [
    "# Preparation\n",
    "\n",
    "Let's create the config dataset for making the pipeline work, in this case this is just a CSV that we register as a `TabularDataset`. This is required as input to `ParallelRunStep`, which either parallizes over rows or over a set of files (when using `FileDataset`)."
   ]
  },
  {
   "cell_type": "code",
   "execution_count": null,
   "metadata": {
    "tags": []
   },
   "outputs": [],
   "source": [
    "from azureml.core import Dataset\n",
    "\n",
    "datastore = ws.get_default_datastore()\n",
    "datastore.upload(src_dir='../sample-data', target_path='config', overwrite=True)\n",
    "ds = Dataset.Tabular.from_delimited_files(path=[(datastore, 'config/config.csv')])\n",
    "ds.register(ws, name='config', description='Configuration dataset for ParallelRunStep', create_new_version=True)"
   ]
  },
  {
   "cell_type": "markdown",
   "metadata": {},
   "source": [
    "Now we can prepare our config dataset as input for `ParallelRunStep`:"
   ]
  },
  {
   "cell_type": "code",
   "execution_count": null,
   "metadata": {},
   "outputs": [],
   "source": [
    "config_dataset = Dataset.get_by_name(ws, \"config\")\n",
    "config_dataset_consumption = DatasetConsumptionConfig(\"config_dataset\", config_dataset)"
   ]
  },
  {
   "cell_type": "markdown",
   "metadata": {},
   "source": [
    "Now let's create a output dataset that will contain our predictions. This gives us complete freedom where we want to store the predictions on the datastore:"
   ]
  },
  {
   "cell_type": "code",
   "execution_count": null,
   "metadata": {
    "tags": []
   },
   "outputs": [],
   "source": [
    "#output_dataset = PipelineData(name='batch_output', datastore=ws.get_default_datastore()).as_dataset()\n",
    "#output_dataset = output_dataset.register(name='batch-scoring-results', create_new_version=True)\n",
    "\n",
    "datastore = ws.get_default_datastore()\n",
    "output_dataset = OutputFileDatasetConfig(name='prs_results',\n",
    "                                         destination=(datastore, 'prs_results/{run-id}')).register_on_complete(name='prs_results')\n"
   ]
  },
  {
   "cell_type": "markdown",
   "metadata": {},
   "source": [
    "Next, we can create a `ParallelRunStep` that runs our batch scoring code in parallel on one or more nodes. In this case, we use a `ParallelRunConfig` from a YAML file, that defines our batch scoring job (source script, environement, parallelization, target cluster, etc.)"
   ]
  },
  {
   "cell_type": "code",
   "execution_count": null,
   "metadata": {},
   "outputs": [],
   "source": [
    "parallel_run_config = ParallelRunConfig.load_yaml(workspace=ws, path=\"parallel_runconfig.yml\")\n",
    "\n",
    "prs_step = ParallelRunStep(\n",
    "    name=\"parallel-run-step\",\n",
    "    parallel_run_config=parallel_run_config,\n",
    "    arguments=['--forecast_horizon', '4'],\n",
    "    inputs=[config_dataset_consumption],\n",
    "    side_inputs=[],\n",
    "    output=output_dataset,\n",
    "    allow_reuse=False\n",
    ")\n",
    "\n",
    "steps = [prs_step]"
   ]
  },
  {
   "cell_type": "markdown",
   "metadata": {},
   "source": [
    "Finally, we can create our pipeline object, validate it and then run it against an experiment:"
   ]
  },
  {
   "cell_type": "code",
   "execution_count": null,
   "metadata": {
    "tags": [
     "outputPrepend"
    ]
   },
   "outputs": [],
   "source": [
    "pipeline = Pipeline(workspace=ws, steps=steps)\n",
    "pipeline.validate()\n",
    "\n",
    "pipeline_run = Experiment(ws, 'prs-pipeline').submit(pipeline)\n",
    "pipeline_run.wait_for_completion()"
   ]
  },
  {
   "cell_type": "code",
   "execution_count": null,
   "metadata": {},
   "outputs": [],
   "source": []
  }
 ],
 "metadata": {
  "language_info": {
   "codemirror_mode": {
    "name": "ipython",
    "version": 3
   },
   "file_extension": ".py",
   "mimetype": "text/x-python",
   "name": "python",
   "nbconvert_exporter": "python",
   "pygments_lexer": "ipython3",
   "version": 3
  },
  "orig_nbformat": 2,
  "kernelspec": {
   "name": "python_defaultSpec_1601471128568",
   "display_name": "Python 3.6.10 64-bit ('azureml': conda)"
  }
 },
 "nbformat": 4,
 "nbformat_minor": 2
}